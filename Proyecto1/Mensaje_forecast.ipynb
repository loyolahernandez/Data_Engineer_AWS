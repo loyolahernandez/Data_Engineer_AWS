{
 "cells": [
  {
   "cell_type": "markdown",
   "metadata": {},
   "source": [
    "# Requirements"
   ]
  },
  {
   "cell_type": "code",
   "execution_count": 6,
   "metadata": {},
   "outputs": [],
   "source": [
    "import pysurfline\n",
    "import pandas as pd\n",
    "import os\n",
    "from twilio.rest import Client\n",
    "from twilio_config import *\n",
    "import time"
   ]
  },
  {
   "cell_type": "markdown",
   "metadata": {},
   "source": [
    "# Set surf conditions"
   ]
  },
  {
   "cell_type": "code",
   "execution_count": 4,
   "metadata": {},
   "outputs": [],
   "source": [
    "spotId = \"640a4d90e92030fa8aa15c69\"\n",
    "wind = 'Offshore'\n",
    "max_height = 2.5\n",
    "min_height = 2\n",
    "sunrise = 8\n",
    "sunset = 18"
   ]
  },
  {
   "cell_type": "markdown",
   "metadata": {},
   "source": [
    "# API connection"
   ]
  },
  {
   "cell_type": "code",
   "execution_count": 2,
   "metadata": {},
   "outputs": [],
   "source": [
    "def wave_sms(spotId, wind, max_height, min_height, sunrise, sunset):\n",
    "\n",
    "    spotforecasts = pysurfline.get_spot_forecasts(\n",
    "        spotId,\n",
    "        days=4,\n",
    "        intervalHours=3,\n",
    "    )\n",
    "\n",
    "    df = spotforecasts.get_dataframe()\n",
    "\n",
    "    # Comparar condiciones\n",
    "    df_sesh = df[\n",
    "        (df['surf_max'] <= max_height) & (df['surf_max'] >= min_height) &\n",
    "        (df['timestamp_dt'].dt.hour <= sunset) & (df['timestamp_dt'].dt.hour >= sunrise) &\n",
    "        (df['directionType'] != wind)\n",
    "    ].copy()\n",
    "\n",
    "    df_sesh['date'] = df_sesh['timestamp_dt'].dt.date\n",
    "    df_sesh['hour'] = df_sesh['timestamp_dt'].dt.hour\n",
    "\n",
    "    # Data para el sms\n",
    "    df_sms = df_sesh[['hour', 'surf_max', 'directionType']]\n",
    "\n",
    "    # SMS a string\n",
    "    sms = df_sms.to_string(index=False)\n",
    "\n",
    "    return sms\n"
   ]
  },
  {
   "cell_type": "markdown",
   "metadata": {},
   "source": [
    "# Send Data with Twilio"
   ]
  },
  {
   "cell_type": "code",
   "execution_count": 7,
   "metadata": {},
   "outputs": [
    {
     "name": "stdout",
     "output_type": "stream",
     "text": [
      "Mensaje Enviado SM351403a5c6a0d75b2006b62771dc4fc6\n"
     ]
    }
   ],
   "source": [
    "time.sleep(2)\n",
    "account_sid = TWILIO_ACCOUNT_SID \n",
    "auth_token = TWILIO_AUTH_TOKEN\n",
    "\n",
    "client = Client(account_sid, auth_token)\n",
    "\n",
    "message = client.messages \\\n",
    "                .create(\n",
    "                     body='\\nHola! \\n\\n\\n Hoy puede salir ola en Buchu.' + wave_sms(spotId, wind, max_height, min_height, sunrise, sunset),\n",
    "                     from_=PHONE_NUMBER,\n",
    "                     to='+56982091549'\n",
    "                 )\n",
    "\n",
    "print('Mensaje Enviado ' + message.sid)"
   ]
  }
 ],
 "metadata": {
  "kernelspec": {
   "display_name": "Python 3",
   "language": "python",
   "name": "python3"
  },
  "language_info": {
   "codemirror_mode": {
    "name": "ipython",
    "version": 3
   },
   "file_extension": ".py",
   "mimetype": "text/x-python",
   "name": "python",
   "nbconvert_exporter": "python",
   "pygments_lexer": "ipython3",
   "version": "3.12.2"
  }
 },
 "nbformat": 4,
 "nbformat_minor": 2
}
